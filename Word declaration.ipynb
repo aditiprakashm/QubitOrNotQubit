{
 "cells": [
  {
   "cell_type": "code",
   "execution_count": 37,
   "metadata": {},
   "outputs": [],
   "source": [
    "from qiskit import *\n",
    "from qiskit.visualization import *\n",
    "from numpy import zeros, ones\n",
    "from math import *\n",
    "from numpy import outer"
   ]
  },
  {
   "cell_type": "code",
   "execution_count": 13,
   "metadata": {},
   "outputs": [
    {
     "name": "stdout",
     "output_type": "stream",
     "text": [
      "[0.5 0.5 0.5 0.5]\n"
     ]
    }
   ],
   "source": [
    "#initialize dimension vectors\n",
    "n = 4\n",
    "a = 1/sqrt(n) * (ones([n]))\n",
    "print(a)"
   ]
  },
  {
   "cell_type": "code",
   "execution_count": 25,
   "metadata": {},
   "outputs": [
    {
     "data": {
      "text/html": [
       "<pre style=\"word-wrap: normal;white-space: pre;background: #fff0;line-height: 1.1;font-family: &quot;Courier New&quot;,Courier,monospace\">        ┌──────────────────────────────┐ ░ ┌─┐   \n",
       "   q_0: ┤0                             ├─░─┤M├───\n",
       "        │  initialize(0.5,0.5,0.5,0.5) │ ░ └╥┘┌─┐\n",
       "   q_1: ┤1                             ├─░──╫─┤M├\n",
       "        └──────────────────────────────┘ ░  ║ └╥┘\n",
       "meas_0: ════════════════════════════════════╩══╬═\n",
       "                                               ║ \n",
       "meas_1: ═══════════════════════════════════════╩═\n",
       "                                                 </pre>"
      ],
      "text/plain": [
       "        ┌──────────────────────────────┐ ░ ┌─┐   \n",
       "   q_0: ┤0                             ├─░─┤M├───\n",
       "        │  initialize(0.5,0.5,0.5,0.5) │ ░ └╥┘┌─┐\n",
       "   q_1: ┤1                             ├─░──╫─┤M├\n",
       "        └──────────────────────────────┘ ░  ║ └╥┘\n",
       "meas_0: ════════════════════════════════════╩══╬═\n",
       "                                               ║ \n",
       "meas_1: ═══════════════════════════════════════╩═\n",
       "                                                 "
      ]
     },
     "execution_count": 25,
     "metadata": {},
     "output_type": "execute_result"
    }
   ],
   "source": [
    "qc = QuantumCircuit(2)\n",
    "qc.initialize(a, [0, 1])\n",
    "\n",
    "qc.measure_all()\n",
    "qc.draw()"
   ]
  },
  {
   "cell_type": "code",
   "execution_count": 32,
   "metadata": {},
   "outputs": [
    {
     "name": "stdout",
     "output_type": "stream",
     "text": [
      "[0.+0.j 0.+0.j 1.+0.j 0.+0.j]\n"
     ]
    }
   ],
   "source": [
    "#collapses in any one state on measurement\n",
    "result = execute(qc, Aer.get_backend('statevector_simulator')).result().get_statevector()\n",
    "print(result)"
   ]
  },
  {
   "cell_type": "code",
   "execution_count": 40,
   "metadata": {},
   "outputs": [
    {
     "name": "stdout",
     "output_type": "stream",
     "text": [
      "{'01': 244, '00': 261, '10': 268, '11': 251}\n"
     ]
    },
    {
     "data": {
      "image/png": "[encoded data removed]",
      "text/plain": [
       "<Figure size 504x360 with 1 Axes>"
      ]
     },
     "execution_count": 40,
     "metadata": {},
     "output_type": "execute_result"
    }
   ],
   "source": [
    "#all states almost equally likely\n",
    "result = execute(qc, Aer.get_backend('qasm_simulator')).result()\n",
    "counts = result.get_counts()\n",
    "print(counts)\n",
    "plot_histogram(counts)"
   ]
  },
  {
   "cell_type": "code",
   "execution_count": 46,
   "metadata": {},
   "outputs": [
    {
     "ename": "SyntaxError",
     "evalue": "unexpected EOF while parsing (<ipython-input-46-6e16d5458b4d>, line 8)",
     "output_type": "error",
     "traceback": [
      "\u001b[0;36m  File \u001b[0;32m\"<ipython-input-46-6e16d5458b4d>\"\u001b[0;36m, line \u001b[0;32m8\u001b[0m\n\u001b[0;31m    word_matrix = word_matrix/(counts.get('00')+counts.get('01')+counts.get('10')+counts.get('11')\u001b[0m\n\u001b[0m                                                                                                   ^\u001b[0m\n\u001b[0;31mSyntaxError\u001b[0m\u001b[0;31m:\u001b[0m unexpected EOF while parsing\n"
     ]
    }
   ],
   "source": [
    "#density matrix representing the word\n",
    "a1 = [1, 0, 0, 0]\n",
    "a2 = [0, 1, 0, 0]\n",
    "a3 = [0, 0, 1, 0]\n",
    "a4 = [0, 0, 0, 1]\n",
    "\n",
    "word_matrix =(counts.get('00')*outer(a1, a1) + counts.get('01')*outer(a2, a2) + counts.get('10')*outer(a3, a3) + counts.get('11')*outer(a4, a4))\n",
    "word_matrix = word_matrix/(counts.get('00')+counts.get('01')+counts.get('10')+counts.get('11')) "
   ]
  },
  {
   "cell_type": "code",
   "execution_count": null,
   "metadata": {},
   "outputs": [],
   "source": []
  }
 ],
 "metadata": {
  "kernelspec": {
   "display_name": "Python 3",
   "language": "python",
   "name": "python3"
  },
  "language_info": {
   "codemirror_mode": {
    "name": "ipython",
    "version": 3
   },
   "file_extension": ".py",
   "mimetype": "text/x-python",
   "name": "python",
   "nbconvert_exporter": "python",
   "pygments_lexer": "ipython3",
   "version": "3.7.6"
  }
 },
 "nbformat": 4,
 "nbformat_minor": 4
}
