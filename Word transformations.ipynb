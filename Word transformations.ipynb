{
 "cells": [
  {
   "cell_type": "code",
   "execution_count": 93,
   "metadata": {},
   "outputs": [],
   "source": [
    "from qiskit import *\n",
    "from qiskit.visualization import *\n",
    "from numpy import zeros, ones\n",
    "from math import *\n",
    "from numpy import outer\n",
    "from qiskit.quantum_info import DensityMatrix\n",
    "from qiskit.extensions import UnitaryGate\n",
    "import numpy as np"
   ]
  },
  {
   "cell_type": "code",
   "execution_count": 2,
   "metadata": {},
   "outputs": [
    {
     "name": "stdout",
     "output_type": "stream",
     "text": [
      "[0.35355339 0.35355339 0.35355339 0.35355339 0.35355339 0.35355339\n",
      " 0.35355339 0.35355339]\n"
     ]
    }
   ],
   "source": [
    "#initialize dimension vectors\n",
    "n = 8\n",
    "a = 1/sqrt(n) * (ones([n]))\n",
    "print(a)"
   ]
  },
  {
   "cell_type": "code",
   "execution_count": 3,
   "metadata": {},
   "outputs": [
    {
     "data": {
      "text/html": [
       "<pre style=\"word-wrap: normal;white-space: pre;background: #fff0;line-height: 1.1;font-family: &quot;Courier New&quot;,Courier,monospace\">        »\n",
       "   q_0: »\n",
       "        »\n",
       "   q_1: »\n",
       "        »\n",
       "   q_2: »\n",
       "        »\n",
       "meas_0: »\n",
       "        »\n",
       "meas_1: »\n",
       "        »\n",
       "meas_2: »\n",
       "        »\n",
       "«        ┌──────────────────────────────────────────────────────────────────────────────┐»\n",
       "«   q_0: ┤0                                                                             ├»\n",
       "«        │                                                                              │»\n",
       "«   q_1: ┤1 initialize(0.35355,0.35355,0.35355,0.35355,0.35355,0.35355,0.35355,0.35355) ├»\n",
       "«        │                                                                              │»\n",
       "«   q_2: ┤2                                                                             ├»\n",
       "«        └──────────────────────────────────────────────────────────────────────────────┘»\n",
       "«meas_0: ════════════════════════════════════════════════════════════════════════════════»\n",
       "«                                                                                        »\n",
       "«meas_1: ════════════════════════════════════════════════════════════════════════════════»\n",
       "«                                                                                        »\n",
       "«meas_2: ════════════════════════════════════════════════════════════════════════════════»\n",
       "«                                                                                        »\n",
       "«         ░ ┌─┐      \n",
       "«   q_0: ─░─┤M├──────\n",
       "«         ░ └╥┘┌─┐   \n",
       "«   q_1: ─░──╫─┤M├───\n",
       "«         ░  ║ └╥┘┌─┐\n",
       "«   q_2: ─░──╫──╫─┤M├\n",
       "«         ░  ║  ║ └╥┘\n",
       "«meas_0: ════╩══╬══╬═\n",
       "«               ║  ║ \n",
       "«meas_1: ═══════╩══╬═\n",
       "«                  ║ \n",
       "«meas_2: ══════════╩═\n",
       "«                    </pre>"
      ],
      "text/plain": [
       "        »\n",
       "   q_0: »\n",
       "        »\n",
       "   q_1: »\n",
       "        »\n",
       "   q_2: »\n",
       "        »\n",
       "meas_0: »\n",
       "        »\n",
       "meas_1: »\n",
       "        »\n",
       "meas_2: »\n",
       "        »\n",
       "«        ┌──────────────────────────────────────────────────────────────────────────────┐»\n",
       "«   q_0: ┤0                                                                             ├»\n",
       "«        │                                                                              │»\n",
       "«   q_1: ┤1 initialize(0.35355,0.35355,0.35355,0.35355,0.35355,0.35355,0.35355,0.35355) ├»\n",
       "«        │                                                                              │»\n",
       "«   q_2: ┤2                                                                             ├»\n",
       "«        └──────────────────────────────────────────────────────────────────────────────┘»\n",
       "«meas_0: ════════════════════════════════════════════════════════════════════════════════»\n",
       "«                                                                                        »\n",
       "«meas_1: ════════════════════════════════════════════════════════════════════════════════»\n",
       "«                                                                                        »\n",
       "«meas_2: ════════════════════════════════════════════════════════════════════════════════»\n",
       "«                                                                                        »\n",
       "«         ░ ┌─┐      \n",
       "«   q_0: ─░─┤M├──────\n",
       "«         ░ └╥┘┌─┐   \n",
       "«   q_1: ─░──╫─┤M├───\n",
       "«         ░  ║ └╥┘┌─┐\n",
       "«   q_2: ─░──╫──╫─┤M├\n",
       "«         ░  ║  ║ └╥┘\n",
       "«meas_0: ════╩══╬══╬═\n",
       "«               ║  ║ \n",
       "«meas_1: ═══════╩══╬═\n",
       "«                  ║ \n",
       "«meas_2: ══════════╩═\n",
       "«                    "
      ]
     },
     "execution_count": 3,
     "metadata": {},
     "output_type": "execute_result"
    }
   ],
   "source": [
    "qc = QuantumCircuit(3)\n",
    "qc.initialize(a, [0, 1, 2])\n",
    "\n",
    "qc.measure_all()\n",
    "qc.draw()"
   ]
  },
  {
   "cell_type": "code",
   "execution_count": 4,
   "metadata": {},
   "outputs": [
    {
     "name": "stdout",
     "output_type": "stream",
     "text": [
      "[0.+0.j 0.+0.j 0.+0.j 0.+0.j 0.+0.j 0.+0.j 1.+0.j 0.+0.j]\n"
     ]
    }
   ],
   "source": [
    "#collapses in any one state on measurement\n",
    "result = execute(qc, Aer.get_backend('statevector_simulator')).result().get_statevector()\n",
    "print(result)"
   ]
  },
  {
   "cell_type": "code",
   "execution_count": 5,
   "metadata": {},
   "outputs": [
    {
     "name": "stdout",
     "output_type": "stream",
     "text": [
      "{'000': 129, '011': 120, '010': 134, '111': 123, '101': 118, '110': 126, '001': 138, '100': 136}\n"
     ]
    },
    {
     "data": {
      "image/png": "[encoded data removed]",
      "text/plain": [
       "<Figure size 504x360 with 1 Axes>"
      ]
     },
     "execution_count": 5,
     "metadata": {},
     "output_type": "execute_result"
    }
   ],
   "source": [
    "#all states almost equally likely\n",
    "result = execute(qc, Aer.get_backend('qasm_simulator')).result()\n",
    "counts = result.get_counts()\n",
    "print(counts)\n",
    "plot_histogram(counts)"
   ]
  },
  {
   "cell_type": "code",
   "execution_count": 91,
   "metadata": {},
   "outputs": [
    {
     "name": "stdout",
     "output_type": "stream",
     "text": [
      "[[0.12597656 0.         0.         0.         0.         0.\n",
      "  0.         0.        ]\n",
      " [0.         0.13476562 0.         0.         0.         0.\n",
      "  0.         0.        ]\n",
      " [0.         0.         0.13085938 0.         0.         0.\n",
      "  0.         0.        ]\n",
      " [0.         0.         0.         0.1171875  0.         0.\n",
      "  0.         0.        ]\n",
      " [0.         0.         0.         0.         0.1328125  0.\n",
      "  0.         0.        ]\n",
      " [0.         0.         0.         0.         0.         0.11523438\n",
      "  0.         0.        ]\n",
      " [0.         0.         0.         0.         0.         0.\n",
      "  0.12304688 0.        ]\n",
      " [0.         0.         0.         0.         0.         0.\n",
      "  0.         0.12011719]]\n"
     ]
    }
   ],
   "source": [
    "#density matrix representing the word\n",
    "a1 = [1, 0, 0, 0, 0, 0, 0, 0] #intentional agent\n",
    "a2 = [0, 1, 0, 0, 0, 0, 0, 0] #unintentional agent\n",
    "a3 = [0, 0, 1, 0, 0, 0, 0, 0] #categorical location\n",
    "a4 = [0, 0, 0, 1, 0, 0, 0, 0] #specific location\n",
    "a5 = [0, 0, 0, 0, 1, 0, 0, 0] #agented action\n",
    "a6 = [0, 0, 0, 0, 0, 1, 0, 0] #natural event\n",
    "a7 = [0, 0, 0, 0, 0, 0, 1, 0] #conceptual object\n",
    "a8 = [0, 0, 0, 0, 0, 0, 0, 1] #literal object\n",
    "\n",
    "word_matrix =(counts.get('000')*outer(a1, a1) + counts.get('001')*outer(a2, a2) + counts.get('010')*outer(a3, a3) + counts.get('011')*outer(a4, a4) + counts.get('100')*outer(a5, a5) + counts.get('101')*outer(a6, a6) + counts.get('110')*outer(a7, a7) + counts.get('111')*outer(a8, a8))\n",
    "word_matrix = word_matrix/(counts.get('000')+counts.get('001')+counts.get('010')+counts.get('011')+counts.get('100')+counts.get('101')+counts.get('110')+counts.get('111')) \n",
    "#word_matrix = DensityMatrix(word_matrix, dims=(8,1))\n",
    "print(word_matrix)"
   ]
  },
  {
   "cell_type": "code",
   "execution_count": 43,
   "metadata": {},
   "outputs": [
    {
     "name": "stdout",
     "output_type": "stream",
     "text": [
      "[[1, 0, 0, 0, 0, 0, 0, 0], [0, 1, 0, 0, 0, 0, 0, 0], [0, 0, 1, 0, 0, 0, 0, 0], [0, 0, 0, 1, 0, 0, 0, 0], [0, 0, 0, 0, 1, 0, 0, 0], [0, 0, 0, 0, 0, 1, 0, 0], [0, 0, 0, 0, 0, 0, 1, 0], [0, 0, 0, 0, 0, 0, 0, 1]]\n",
      "[0.1259765625, 0.134765625, 0.130859375, 0.1171875, 0.1328125, 0.115234375, 0.123046875, 0.1201171875]\n"
     ]
    }
   ],
   "source": [
    "density_bases = [a1, a2, a3, a4, a5, a6, a7, a8]\n",
    "norm = (counts.get('000')+counts.get('001')+counts.get('010')+counts.get('011')+counts.get('100')+counts.get('101')+counts.get('110')+counts.get('111'))\n",
    "probabilities = [counts.get('000')/norm, counts.get('001')/norm, counts.get('010')/norm, counts.get('011')/norm, counts.get('100')/norm, counts.get('101')/norm, counts.get('110')/norm, counts.get('111')/norm]\n",
    "print(density_bases)\n",
    "print(probabilities)"
   ]
  },
  {
   "cell_type": "code",
   "execution_count": 109,
   "metadata": {},
   "outputs": [],
   "source": [
    "#gates can be constructed using subsequent applications of operations defined as follows\n",
    "\n",
    "weight = 0.5 #weight of increase in one factor\n",
    "\n",
    "#unitarity preserving operation along any column\n",
    "def unitaryOp(mat, n):\n",
    "    wt = 1+weight\n",
    "    mat[n] = wt*mat[n];\n",
    "    sum=0\n",
    "    for i in range(0, 8):\n",
    "        if i!=n :\n",
    "           sum += probabilities[i] \n",
    "        \n",
    "    factor = sqrt( wt - (wt - 1)/(sum))\n",
    "    for i in range(0, 8):\n",
    "        if i!=n :\n",
    "            mat[i] = factor*mat[i]\n",
    "    \n",
    "    print(mat)"
   ]
  },
  {
   "cell_type": "code",
   "execution_count": 123,
   "metadata": {},
   "outputs": [],
   "source": [
    "sample_matrix = np.copy(word_matrix)"
   ]
  },
  {
   "cell_type": "code",
   "execution_count": 124,
   "metadata": {},
   "outputs": [
    {
     "data": {
      "text/plain": [
       "array([[0.12597656, 0.        , 0.        , 0.        , 0.        ,\n",
       "        0.        , 0.        , 0.        ],\n",
       "       [0.        , 0.13476562, 0.        , 0.        , 0.        ,\n",
       "        0.        , 0.        , 0.        ],\n",
       "       [0.        , 0.        , 0.13085938, 0.        , 0.        ,\n",
       "        0.        , 0.        , 0.        ],\n",
       "       [0.        , 0.        , 0.        , 0.1171875 , 0.        ,\n",
       "        0.        , 0.        , 0.        ],\n",
       "       [0.        , 0.        , 0.        , 0.        , 0.1328125 ,\n",
       "        0.        , 0.        , 0.        ],\n",
       "       [0.        , 0.        , 0.        , 0.        , 0.        ,\n",
       "        0.11523438, 0.        , 0.        ],\n",
       "       [0.        , 0.        , 0.        , 0.        , 0.        ,\n",
       "        0.        , 0.12304688, 0.        ],\n",
       "       [0.        , 0.        , 0.        , 0.        , 0.        ,\n",
       "        0.        , 0.        , 0.12011719]])"
      ]
     },
     "execution_count": 124,
     "metadata": {},
     "output_type": "execute_result"
    }
   ],
   "source": [
    "word_matrix"
   ]
  },
  {
   "cell_type": "code",
   "execution_count": 125,
   "metadata": {},
   "outputs": [
    {
     "data": {
      "text/plain": [
       "array([[0.12597656, 0.        , 0.        , 0.        , 0.        ,\n",
       "        0.        , 0.        , 0.        ],\n",
       "       [0.        , 0.13476562, 0.        , 0.        , 0.        ,\n",
       "        0.        , 0.        , 0.        ],\n",
       "       [0.        , 0.        , 0.13085938, 0.        , 0.        ,\n",
       "        0.        , 0.        , 0.        ],\n",
       "       [0.        , 0.        , 0.        , 0.1171875 , 0.        ,\n",
       "        0.        , 0.        , 0.        ],\n",
       "       [0.        , 0.        , 0.        , 0.        , 0.1328125 ,\n",
       "        0.        , 0.        , 0.        ],\n",
       "       [0.        , 0.        , 0.        , 0.        , 0.        ,\n",
       "        0.11523438, 0.        , 0.        ],\n",
       "       [0.        , 0.        , 0.        , 0.        , 0.        ,\n",
       "        0.        , 0.12304688, 0.        ],\n",
       "       [0.        , 0.        , 0.        , 0.        , 0.        ,\n",
       "        0.        , 0.        , 0.12011719]])"
      ]
     },
     "execution_count": 125,
     "metadata": {},
     "output_type": "execute_result"
    }
   ],
   "source": [
    "sample_matrix"
   ]
  },
  {
   "cell_type": "code",
   "execution_count": 126,
   "metadata": {},
   "outputs": [
    {
     "name": "stdout",
     "output_type": "stream",
     "text": [
      "[[0.18896484 0.         0.         0.         0.         0.\n",
      "  0.         0.        ]\n",
      " [0.         0.12981875 0.         0.         0.         0.\n",
      "  0.         0.        ]\n",
      " [0.         0.         0.12605589 0.         0.         0.\n",
      "  0.         0.        ]\n",
      " [0.         0.         0.         0.11288587 0.         0.\n",
      "  0.         0.        ]\n",
      " [0.         0.         0.         0.         0.12793732 0.\n",
      "  0.         0.        ]\n",
      " [0.         0.         0.         0.         0.         0.11100444\n",
      "  0.         0.        ]\n",
      " [0.         0.         0.         0.         0.         0.\n",
      "  0.11853017 0.        ]\n",
      " [0.         0.         0.         0.         0.         0.\n",
      "  0.         0.11570802]]\n"
     ]
    }
   ],
   "source": [
    "unitaryOp(sample_matrix, 0)"
   ]
  },
  {
   "cell_type": "code",
   "execution_count": null,
   "metadata": {},
   "outputs": [],
   "source": [
    "#code to create a gate out of given transformation"
   ]
  }
 ],
 "metadata": {
  "kernelspec": {
   "display_name": "Python 3",
   "language": "python",
   "name": "python3"
  },
  "language_info": {
   "codemirror_mode": {
    "name": "ipython",
    "version": 3
   },
   "file_extension": ".py",
   "mimetype": "text/x-python",
   "name": "python",
   "nbconvert_exporter": "python",
   "pygments_lexer": "ipython3",
   "version": "3.7.6"
  }
 },
 "nbformat": 4,
 "nbformat_minor": 4
}
